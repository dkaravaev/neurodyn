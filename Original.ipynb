{
 "cells": [
  {
   "cell_type": "code",
   "execution_count": 1,
   "metadata": {},
   "outputs": [],
   "source": [
    "import copy\n",
    "import pywt\n",
    "import h5py\n",
    "import scipy.stats\n",
    "import scipy.signal\n",
    "import scipy.io\n",
    "\n",
    "import numpy as np\n",
    "import matplotlib as mpl\n",
    "import matplotlib.pyplot as plt\n",
    "\n",
    "from kpnet.handler import *\n",
    "from kpnet.network import *\n",
    "from kpnet.signal import *\n",
    "from kpnet.callback import *\n",
    "from kpnet.entropy import *\n",
    "from kpnet.patterns import *\n",
    "from kpnet.utils import *\n",
    "\n",
    "from wavelets import *"
   ]
  },
  {
   "cell_type": "code",
   "execution_count": 2,
   "metadata": {},
   "outputs": [],
   "source": [
    "mpl.rcParams['image.cmap'] = 'magma'"
   ]
  },
  {
   "cell_type": "code",
   "execution_count": 3,
   "metadata": {},
   "outputs": [],
   "source": [
    "N = 64\n",
    "time_interval = 2 ** 16\n",
    "chunk = 2 ** 13"
   ]
  },
  {
   "cell_type": "code",
   "execution_count": 4,
   "metadata": {},
   "outputs": [
    {
     "data": {
      "text/plain": [
       "(65536, 8192)"
      ]
     },
     "execution_count": 4,
     "metadata": {},
     "output_type": "execute_result"
    }
   ],
   "source": [
    "time_interval, chunk"
   ]
  },
  {
   "cell_type": "code",
   "execution_count": null,
   "metadata": {},
   "outputs": [],
   "source": [
    "np.random.seed(0)\n",
    "#neuron = 5\n",
    "# 20, 0.078\n",
    "# Period - N, 3, alpha=0.044, beta=0.2, gamma=3.2\n",
    "net = KPNetworkTanh(N, alpha=0.05, beta=0.3, gamma=2.2)\n",
    "\n",
    "callbacks = {}\n",
    "callbacks['W'] = WeightsCallback(time_interval, N, chunk, 'data/data.hfd5')\n",
    "#for i in range(N):\n",
    "#    callbacks['W_' + str(i)] = Weight0Callback(time_interval, neuron, i)\n",
    "\n",
    "\n",
    "\n",
    "#callbacks['L2'] = NormL2Callback(time_interval)\n",
    "#callbacks['L1'] = NormL1Callback(time_interval)\n",
    "#callbacks['N5'] = NeuronActivityCallback(time_interval, neuron)\n",
    "#callbacks['N3'] = NeuronActivityCallback(time_interval, 3)\n",
    "#callbacks['N11'] = NeuronActivityCallback(time_interval, 11)\n",
    "\n",
    "#neurons = [3, 11, 13, 29, 42]\n",
    "#for i, n1 in enumerate(neurons):\n",
    "#    for j, n2 in enumerate(neurons):\n",
    "#        if i != j:\n",
    "#            callbacks['W_' + str(n1) + '_' + str(n2)] =  Weight0Callback(time_interval, n1, n2)\n",
    "        \n",
    "\n",
    "signal = SwitchSignal([2000, time_interval], [RandomUnitSignal(N), ZeroSignal(N)])\n",
    "handler = ComputationHandler(time_interval)\n",
    "%time results = handler.run(net, signal, callbacks)"
   ]
  },
  {
   "cell_type": "code",
   "execution_count": 5,
   "metadata": {},
   "outputs": [
    {
     "ename": "KeyboardInterrupt",
     "evalue": "",
     "output_type": "error",
     "traceback": [
      "\u001b[0;31m--------------------------------------------------------------------------\u001b[0m",
      "\u001b[0;31mKeyboardInterrupt\u001b[0m                        Traceback (most recent call last)",
      "\u001b[0;32m<ipython-input-5-cfe5e10e592f>\u001b[0m in \u001b[0;36m<module>\u001b[0;34m()\u001b[0m\n\u001b[1;32m      7\u001b[0m     \u001b[0;32mfor\u001b[0m \u001b[0mj\u001b[0m \u001b[0;32min\u001b[0m \u001b[0mrange\u001b[0m\u001b[0;34m(\u001b[0m\u001b[0mi\u001b[0m\u001b[0;34m)\u001b[0m\u001b[0;34m:\u001b[0m\u001b[0;34m\u001b[0m\u001b[0m\n\u001b[1;32m      8\u001b[0m         \u001b[0;32mif\u001b[0m \u001b[0mi\u001b[0m \u001b[0;34m!=\u001b[0m \u001b[0mj\u001b[0m\u001b[0;34m:\u001b[0m\u001b[0;34m\u001b[0m\u001b[0m\n\u001b[0;32m----> 9\u001b[0;31m             \u001b[0mdataset\u001b[0m\u001b[0;34m[\u001b[0m\u001b[0mi\u001b[0m\u001b[0;34m,\u001b[0m \u001b[0mj\u001b[0m\u001b[0;34m]\u001b[0m \u001b[0;34m=\u001b[0m \u001b[0mnp\u001b[0m\u001b[0;34m.\u001b[0m\u001b[0mflip\u001b[0m\u001b[0;34m(\u001b[0m\u001b[0mnp\u001b[0m\u001b[0;34m.\u001b[0m\u001b[0masarray\u001b[0m\u001b[0;34m(\u001b[0m\u001b[0;34m[\u001b[0m\u001b[0mD\u001b[0m  \u001b[0;32mfor\u001b[0m \u001b[0m_\u001b[0m\u001b[0;34m,\u001b[0m \u001b[0mD\u001b[0m \u001b[0;32min\u001b[0m \u001b[0mpywt\u001b[0m\u001b[0;34m.\u001b[0m\u001b[0mswt\u001b[0m\u001b[0;34m(\u001b[0m\u001b[0mW\u001b[0m\u001b[0;34m[\u001b[0m\u001b[0mi\u001b[0m\u001b[0;34m,\u001b[0m \u001b[0mj\u001b[0m\u001b[0;34m]\u001b[0m\u001b[0;34m,\u001b[0m \u001b[0;34m'db2'\u001b[0m\u001b[0;34m,\u001b[0m \u001b[0mlevel\u001b[0m\u001b[0;34m=\u001b[0m\u001b[0mlevel\u001b[0m\u001b[0;34m)\u001b[0m\u001b[0;34m]\u001b[0m\u001b[0;34m)\u001b[0m\u001b[0;34m,\u001b[0m \u001b[0maxis\u001b[0m\u001b[0;34m=\u001b[0m\u001b[0;36m0\u001b[0m\u001b[0;34m)\u001b[0m\u001b[0;34m\u001b[0m\u001b[0m\n\u001b[0m\u001b[1;32m     10\u001b[0m \u001b[0mswts\u001b[0m\u001b[0;34m.\u001b[0m\u001b[0mclose\u001b[0m\u001b[0;34m(\u001b[0m\u001b[0;34m)\u001b[0m\u001b[0;34m\u001b[0m\u001b[0m\n",
      "\u001b[0;32m/usr/local/lib/python3.5/dist-packages/pywt/_swt.py\u001b[0m in \u001b[0;36mswt\u001b[0;34m(data, wavelet, level, start_level, axis)\u001b[0m\n\u001b[1;32m     70\u001b[0m \u001b[0;34m\u001b[0m\u001b[0m\n\u001b[1;32m     71\u001b[0m     \u001b[0;32mif\u001b[0m \u001b[0mdata\u001b[0m\u001b[0;34m.\u001b[0m\u001b[0mndim\u001b[0m \u001b[0;34m==\u001b[0m \u001b[0;36m1\u001b[0m\u001b[0;34m:\u001b[0m\u001b[0;34m\u001b[0m\u001b[0m\n\u001b[0;32m---> 72\u001b[0;31m         \u001b[0mret\u001b[0m \u001b[0;34m=\u001b[0m \u001b[0m_swt\u001b[0m\u001b[0;34m(\u001b[0m\u001b[0mdata\u001b[0m\u001b[0;34m,\u001b[0m \u001b[0mwavelet\u001b[0m\u001b[0;34m,\u001b[0m \u001b[0mlevel\u001b[0m\u001b[0;34m,\u001b[0m \u001b[0mstart_level\u001b[0m\u001b[0;34m)\u001b[0m\u001b[0;34m\u001b[0m\u001b[0m\n\u001b[0m\u001b[1;32m     73\u001b[0m     \u001b[0;32melse\u001b[0m\u001b[0;34m:\u001b[0m\u001b[0;34m\u001b[0m\u001b[0m\n\u001b[1;32m     74\u001b[0m         \u001b[0mret\u001b[0m \u001b[0;34m=\u001b[0m \u001b[0m_swt_axis\u001b[0m\u001b[0;34m(\u001b[0m\u001b[0mdata\u001b[0m\u001b[0;34m,\u001b[0m \u001b[0mwavelet\u001b[0m\u001b[0;34m,\u001b[0m \u001b[0mlevel\u001b[0m\u001b[0;34m,\u001b[0m \u001b[0mstart_level\u001b[0m\u001b[0;34m,\u001b[0m \u001b[0maxis\u001b[0m\u001b[0;34m)\u001b[0m\u001b[0;34m\u001b[0m\u001b[0m\n",
      "\u001b[0;31mKeyboardInterrupt\u001b[0m: "
     ]
    }
   ],
   "source": [
    "level = pywt.swt_max_level(time_interval)\n",
    "W     = h5py.File('data/data.hfd5', 'r')['W']\n",
    "swts  = h5py.File('data/swt.hfd5', 'w')\n",
    "\n",
    "dataset = swts.create_dataset('SWT', (N, N, level, time_interval))\n",
    "for i in range(N):\n",
    "    for j in range(i):\n",
    "        if i != j:\n",
    "            dataset[i, j] = np.flip(np.asarray([D  for _, D in pywt.swt(W[i, j], 'db2', level=level)]), axis=0)\n",
    "swts.close()"
   ]
  },
  {
   "cell_type": "code",
   "execution_count": null,
   "metadata": {},
   "outputs": [],
   "source": [
    "swts.close()"
   ]
  },
  {
   "cell_type": "code",
   "execution_count": null,
   "metadata": {},
   "outputs": [],
   "source": [
    "SWT = np.flip(np.asarray([D  for _, D in pywt.swt(W[i, j], 'db2', level=level)]), axis=0)"
   ]
  },
  {
   "cell_type": "code",
   "execution_count": null,
   "metadata": {},
   "outputs": [],
   "source": [
    "l = pywt.swt(W[i, j], 'db2', level=level)"
   ]
  },
  {
   "cell_type": "code",
   "execution_count": null,
   "metadata": {},
   "outputs": [],
   "source": []
  },
  {
   "cell_type": "code",
   "execution_count": null,
   "metadata": {},
   "outputs": [],
   "source": [
    "plt.figure(figsize=(20, 10))\n",
    "plt.plot(results['W_3'][6000:10000])\n",
    "plt.plot(results['W_11'][6000:10000])\n",
    "#plt.plot(results['W_15'][6000:10000])\n",
    "plt.plot(results['W_13'][6000:10000])\n",
    "plt.plot(results['W_29'][6000:10000])\n",
    "plt.plot(results['W_42'][6000:10000])\n",
    "plt.show()"
   ]
  },
  {
   "cell_type": "code",
   "execution_count": null,
   "metadata": {},
   "outputs": [],
   "source": [
    "A = np.asarray([[1, 2, 3], [4, 5, 6], [7, 8, 9]])\n",
    "np.flip(A, axis=0)"
   ]
  },
  {
   "cell_type": "code",
   "execution_count": null,
   "metadata": {},
   "outputs": [],
   "source": [
    "signal1 = results['W_3']\n",
    "signal2 = results['W_11']\n",
    "signal3 = results['W_15']"
   ]
  },
  {
   "cell_type": "code",
   "execution_count": null,
   "metadata": {},
   "outputs": [],
   "source": [
    "def swt_p(signal, begin, end, wavelet = 'db2'):\n",
    "    \n",
    "    swt = pywt.swt(signal, wavelet, level=level)\n",
    "    power = np.flip(np.asarray([np.sum(dB[begin:end] ** 2) for dA, dB in swt]), axis=0)\n",
    "    return power / np.sum(power)"
   ]
  },
  {
   "cell_type": "code",
   "execution_count": null,
   "metadata": {},
   "outputs": [],
   "source": [
    "begin = 6000\n",
    "end   = 10000"
   ]
  },
  {
   "cell_type": "code",
   "execution_count": null,
   "metadata": {},
   "outputs": [],
   "source": [
    "swt_p1 = swt_p(signal1, begin, end, 'db2')\n",
    "swt_p2 = swt_p(signal2, begin, end, 'db2')\n",
    "swt_p3 = swt_p(signal3, begin, end, 'db2')\n",
    "plt.figure(figsize=(20, 10))\n",
    "plt.plot(swt_p1)\n",
    "plt.plot(swt_p2)\n",
    "plt.plot(swt_p3)\n",
    "plt.show()\n",
    "#print(\"Entropy: \" + str(scipy.stats.entropy(swt_p1, swt_p2))"
   ]
  },
  {
   "cell_type": "code",
   "execution_count": null,
   "metadata": {},
   "outputs": [],
   "source": [
    "2 ** 12"
   ]
  },
  {
   "cell_type": "code",
   "execution_count": null,
   "metadata": {},
   "outputs": [],
   "source": [
    "scipy.stats.ks_2samp([begin:end], signal2[begin:end])"
   ]
  },
  {
   "cell_type": "code",
   "execution_count": null,
   "metadata": {},
   "outputs": [],
   "source": [
    "scipy.io.savemat('good_sample.mat', results)"
   ]
  },
  {
   "cell_type": "code",
   "execution_count": null,
   "metadata": {},
   "outputs": [],
   "source": [
    "power1 = power(results['W_5_14'])\n",
    "power2 = power(results['W_5_22'])"
   ]
  },
  {
   "cell_type": "code",
   "execution_count": null,
   "metadata": {},
   "outputs": [],
   "source": [
    "plt.figure(figsize=(20, 10))\n",
    "plt.plot(results['W_5_14'][begin:end])\n",
    "plt.plot(results['W_5_22'][begin:end])\n",
    "plt.show()"
   ]
  },
  {
   "cell_type": "code",
   "execution_count": null,
   "metadata": {},
   "outputs": [],
   "source": [
    "plt.figure(figsize=(20, 10))\n",
    "plt.plot(results['W_5_14'][begin:end]-results['W_5_22'][begin:end])\n",
    "plt.show()"
   ]
  },
  {
   "cell_type": "code",
   "execution_count": null,
   "metadata": {},
   "outputs": [],
   "source": [
    "p1 = np.sum(power1[:, begin:end], axis=1) / np.sum(power1[:, begin:end])\n",
    "p2 = np.sum(power2[:, begin:end], axis=1) / np.sum(power2[:, begin:end])\n",
    "plt.figure(figsize=(20, 10))\n",
    "plt.plot(p1)\n",
    "plt.plot(p2)\n",
    "plt.show()"
   ]
  },
  {
   "cell_type": "code",
   "execution_count": null,
   "metadata": {},
   "outputs": [],
   "source": [
    "plt.plot(np.cumsum(p1))\n",
    "plt.plot(np.cumsum(p2))\n",
    "plt.show()"
   ]
  },
  {
   "cell_type": "code",
   "execution_count": null,
   "metadata": {},
   "outputs": [],
   "source": [
    "cwt = WaveletAnalysis(results['W'][5, 14][5000:], wavelet=Ricker(), mask_coi=True)\n",
    "plt.figure(figsize=(20, 10))\n",
    "ax = plt.subplot()\n",
    "cwt.plot_power(ax)\n",
    "plt.show()"
   ]
  },
  {
   "cell_type": "code",
   "execution_count": null,
   "metadata": {},
   "outputs": [],
   "source": [
    "level = pywt.swt_max_level(results['W'][5, 1].shape[0])\n",
    "dec = pywt.swt(results['W'][5, 22], 'db2', level=level)"
   ]
  },
  {
   "cell_type": "code",
   "execution_count": null,
   "metadata": {},
   "outputs": [],
   "source": [
    "level = pywt.swt_max_level(time_interval)\n",
    "dec1 = pywt.swt(results['W'][5, 14], 'db3', level=level)\n",
    "dec2 = pywt.swt(results['W'][5, 22], 'db3', level=level)\n",
    "dec3 = pywt.swt(results['W'][5, 15], 'db3', level=level)\n",
    "dec4 = pywt.swt(results['W'][5, 13], 'db3', level=level)\n",
    "dec5 = pywt.swt(results['W'][5, 9], 'db3', level=level)\n",
    "p1 = [np.sum(dec1[i][1][16000:21000] ** 2) for i in range(level)]\n",
    "p1 /= np.sum(p1)\n",
    "p2 = [np.sum(dec2[i][1][16000:21000] ** 2) for i in range(level)]\n",
    "p2 /= np.sum(p2)\n",
    "p3 = [np.sum(dec3[i][1][16000:21000] ** 2) for i in range(level)]\n",
    "p3 /= np.sum(p3)\n",
    "p4 = [np.sum(dec4[i][1][16000:21000] ** 2) for i in range(level)]\n",
    "p4 /= np.sum(p4)\n",
    "p5 = [np.sum(dec5[i][1][16000:21000] ** 2) for i in range(level)]\n",
    "p5 /= np.sum(p5)\n",
    "plt.figure(figsize=(20, 10))\n",
    "plt.plot(p1, label='14')\n",
    "plt.plot(p3, label='15')\n",
    "plt.plot(p2, label='22')\n",
    "plt.plot(p4, label='13')\n",
    "plt.plot(p5, label='9')\n",
    "plt.legend(loc='upper left')\n",
    "plt.show()"
   ]
  },
  {
   "cell_type": "code",
   "execution_count": null,
   "metadata": {},
   "outputs": [],
   "source": [
    "plt.figure(figsize=(20, 10))\n",
    "plt.plot(dec1[5][1])\n",
    "plt.show()"
   ]
  },
  {
   "cell_type": "code",
   "execution_count": null,
   "metadata": {},
   "outputs": [],
   "source": [
    "np.sum(dec1[2][1] ** 2)"
   ]
  },
  {
   "cell_type": "code",
   "execution_count": null,
   "metadata": {},
   "outputs": [],
   "source": [
    "packet = pywt.WaveletPacket(results['W'][5, 14], 'db2')"
   ]
  },
  {
   "cell_type": "code",
   "execution_count": null,
   "metadata": {},
   "outputs": [],
   "source": [
    "def collect_coeff(l):\n",
    "    \n",
    "\n",
    "\n",
    "packet.walk()"
   ]
  },
  {
   "cell_type": "code",
   "execution_count": null,
   "metadata": {},
   "outputs": [],
   "source": [
    "x"
   ]
  },
  {
   "cell_type": "code",
   "execution_count": null,
   "metadata": {},
   "outputs": [],
   "source": [
    "plt.plot(x)\n",
    "plt.show()"
   ]
  },
  {
   "cell_type": "code",
   "execution_count": null,
   "metadata": {},
   "outputs": [],
   "source": [
    "p"
   ]
  },
  {
   "cell_type": "code",
   "execution_count": null,
   "metadata": {},
   "outputs": [],
   "source": [
    "cwt = WaveletAnalysis(det[0][3000:], wavelet=Ricker())\n",
    "plt.figure(figsize=(20, 10)) \n",
    "ax = plt.subplot()\n",
    "cwt.plot_power(ax)\n",
    "plt.show()"
   ]
  },
  {
   "cell_type": "code",
   "execution_count": null,
   "metadata": {},
   "outputs": [],
   "source": [
    "def neuron_cluster(neuron, weights, threshold=0.01):\n",
    "    neurons = weights.shape[1]\n",
    "    cwts = [EntropyCWT(weights[neuron, j, :], Ricker()) for j in range(neurons)]\n",
    "    entropies = np.zeros(shape=(neurons, neurons))\n",
    "    for j in range(neurons):\n",
    "        for k in range(neurons):\n",
    "            entropies[j][k] = EntropyCWT.compare(cwts[j], cwts[k], \n",
    "                              EntropyCWT.distribution, EntropyCWT.jensen)\n",
    "    c = 1\n",
    "    cs = np.zeros(shape=(neurons, ))\n",
    "    ents = np.inf + np.zeros(shape=(neurons, ))\n",
    "    for j in range(neurons):\n",
    "        if cs[j] == 0:\n",
    "            found = 0\n",
    "            for k in range(neurons):\n",
    "                if entropies[j][k] <= np.min([ents[k], threshold]) and j != k:\n",
    "                    cs[k] = c\n",
    "                    ents[k] = entropies[j][k]\n",
    "                if entropies[j][k] <= np.min([ents[j], threshold]) and j != k:\n",
    "                    cs[j] = c\n",
    "                    ents[j] = entropies[j][k]\n",
    "            c += 1\n",
    "            \n",
    "    return cs"
   ]
  },
  {
   "cell_type": "code",
   "execution_count": null,
   "metadata": {},
   "outputs": [],
   "source": [
    "def parse_clusters(encoded_clusters, neuron, min_size=1):\n",
    "    clusters = []\n",
    "    for num in np.unique(encoded_clusters):\n",
    "        if num != 0:\n",
    "            cluster = set()\n",
    "            for j in range(N):\n",
    "                if encoded_clusters[j] == num:\n",
    "                    cluster.add(j)\n",
    "            if len(cluster) > min_size:\n",
    "                cluster.add(neuron)\n",
    "                clusters.append(cluster)\n",
    "            \n",
    "    return clusters"
   ]
  },
  {
   "cell_type": "code",
   "execution_count": null,
   "metadata": {},
   "outputs": [],
   "source": [
    "clusters = []\n",
    "for i in range(N):\n",
    "    cluster = parse_clusters(neuron_cluster(i, results['W'][:, :, 18000:21000], 0.01), i, 5)\n",
    "    if len(cluster) > 0:\n",
    "        clusters.append(cluster)"
   ]
  },
  {
   "cell_type": "code",
   "execution_count": null,
   "metadata": {},
   "outputs": [],
   "source": [
    "def find_max_intersect(cluster, clusters, collected):\n",
    "    max_len = 0\n",
    "    n = -1\n",
    "    c = -1\n",
    "    for i in range(len(clusters)):\n",
    "        for j in range(len(clusters[i])):\n",
    "            if not collected[i][j]:\n",
    "                res = cluster & clusters[i][j]\n",
    "                if len(res) > max_len:\n",
    "                    max_len = len(res)\n",
    "                    n = i\n",
    "                    c = j\n",
    "    return n, c"
   ]
  },
  {
   "cell_type": "code",
   "execution_count": null,
   "metadata": {},
   "outputs": [],
   "source": [
    "collected = []\n",
    "for i in range(len(clusters)):\n",
    "    collected.append([False] * len(clusters[i]))\n",
    "    \n",
    "cores = []\n",
    "subs = []\n",
    "for i in range(len(clusters)):\n",
    "    for j in range(len(clusters[i])):\n",
    "        if not collected[i][j]:\n",
    "            cores.append(copy.deepcopy(clusters[i][j]))\n",
    "            subs.append(copy.deepcopy(clusters[i][j]))\n",
    "            collected[i][j] = True\n",
    "            n, c = find_max_intersect(cores[-1], clusters, collected)\n",
    "            while n != -1 and c != -1:\n",
    "                collected[n][c] = True\n",
    "                cores[-1] &= clusters[n][c]\n",
    "                subs[-1] |= clusters[n][c]\n",
    "                n, c = find_max_intersect(cores[-1], clusters, collected)"
   ]
  },
  {
   "cell_type": "code",
   "execution_count": null,
   "metadata": {},
   "outputs": [],
   "source": [
    "cores"
   ]
  },
  {
   "cell_type": "code",
   "execution_count": null,
   "metadata": {},
   "outputs": [],
   "source": [
    "def in_cluster(n, clusters):\n",
    "    for i, cs in enumerate(res):\n",
    "        if len(cs) > 1:\n",
    "            for j in cs:\n",
    "                if j == n:\n",
    "                    return i\n",
    "    return -1\n",
    "                    \n",
    "values = [0.5] * N\n",
    "c = 0.6\n",
    "for n in cores[-2]:\n",
    "    values[n] = c\n",
    "\n",
    "for n in (subs[-2] - cores[-2]):\n",
    "    values[n] = c + 0.2\n",
    "         \n",
    "g = nx.complete_graph(N)        \n",
    "plt.figure(figsize=(20, 10))\n",
    "pos = nx.spring_layout(g)\n",
    "nx.draw_networkx_nodes(g, pos,\n",
    "                       node_color = values, node_size = 500)\n",
    "nx.draw_networkx_labels(g, pos, {i: str(i) for i in range(N)})\n",
    "black_edges = [(b, e) for b, e in g.edges() if (b in cores[-2]) and (e in cores[-2])]\n",
    "grey_edges = [(b, e) for b, e in g.edges() if (b in subs[-2]) and (e in subs[-2])]\n",
    "white_edges = [edge for edge in g.edges() if edge not in black_edges]\n",
    "nx.draw_networkx_edges(g, pos, edgelist=white_edges, edge_color='lightgray')\n",
    "nx.draw_networkx_edges(g, pos, edgelist=grey_edges, edge_color='gray')\n",
    "nx.draw_networkx_edges(g, pos, edgelist=black_edges)\n",
    "plt.xticks([])\n",
    "plt.yticks([])\n",
    "plt.show()"
   ]
  },
  {
   "cell_type": "code",
   "execution_count": null,
   "metadata": {},
   "outputs": [],
   "source": [
    "scipy.io.savemat('W.mat', results)"
   ]
  },
  {
   "cell_type": "code",
   "execution_count": null,
   "metadata": {},
   "outputs": [],
   "source": []
  }
 ],
 "metadata": {
  "kernelspec": {
   "display_name": "Python 3",
   "language": "python",
   "name": "python3"
  },
  "language_info": {
   "codemirror_mode": {
    "name": "ipython",
    "version": 3
   },
   "file_extension": ".py",
   "mimetype": "text/x-python",
   "name": "python",
   "nbconvert_exporter": "python",
   "pygments_lexer": "ipython3",
   "version": "3.5.3"
  }
 },
 "nbformat": 4,
 "nbformat_minor": 2
}
