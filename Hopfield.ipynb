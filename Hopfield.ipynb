{
 "cells": [
  {
   "cell_type": "code",
   "execution_count": 11,
   "metadata": {},
   "outputs": [],
   "source": [
    "import numpy as np\n",
    "import scipy\n",
    "import matplotlib.pyplot as plt\n",
    "\n",
    "from kpnet.network import KPHopfieldNetwork"
   ]
  },
  {
   "cell_type": "code",
   "execution_count": 12,
   "metadata": {},
   "outputs": [],
   "source": [
    "def draw_bin_image(image_matrix):\n",
    "    for row in image_matrix.tolist():\n",
    "        print('| ' + ' '.join(' *'[int(val)] for val in row))"
   ]
  },
  {
   "cell_type": "code",
   "execution_count": 13,
   "metadata": {},
   "outputs": [],
   "source": [
    "pattern_size = 30"
   ]
  },
  {
   "cell_type": "code",
   "execution_count": 14,
   "metadata": {},
   "outputs": [],
   "source": [
    "zero = np.array([\n",
    "    0, 1, 1, 1, 0,\n",
    "    1, 0, 0, 0, 1,\n",
    "    1, 0, 0, 0, 1,\n",
    "    1, 0, 0, 0, 1,\n",
    "    1, 0, 0, 0, 1,\n",
    "    0, 1, 1, 1, 0\n",
    "])\n",
    "\n",
    "one = np.array([\n",
    "    0, 1, 1, 0, 0,\n",
    "    0, 0, 1, 0, 0,\n",
    "    0, 0, 1, 0, 0,\n",
    "    0, 0, 1, 0, 0,\n",
    "    0, 0, 1, 0, 0,\n",
    "    0, 0, 1, 0, 0\n",
    "])\n",
    "\n",
    "two = np.array([\n",
    "    1, 1, 1, 0, 0,\n",
    "    0, 0, 0, 1, 0,\n",
    "    0, 0, 0, 1, 0,\n",
    "    0, 1, 1, 0, 0,\n",
    "    1, 0, 0, 0, 0,\n",
    "    1, 1, 1, 1, 1,\n",
    "])\n",
    "\n",
    "three = np.array([\n",
    "    1, 1, 1, 1, 1,\n",
    "    0, 0, 0, 1, 0,\n",
    "    1, 1, 1, 1, 1,\n",
    "    0, 0, 0, 0, 1,\n",
    "    0, 0, 0, 1, 1,\n",
    "    1, 1, 1, 0, 0,\n",
    "])\n",
    "\n",
    "four = np.array([\n",
    "    1, 0, 0, 0, 1,\n",
    "    1, 0, 0, 0, 1,\n",
    "    1, 0, 0, 0, 1,\n",
    "    1, 1, 1, 1, 1,\n",
    "    0, 0, 0, 0, 1,\n",
    "    0, 0, 0, 0, 1,\n",
    "])\n",
    "\n",
    "five = np.array([\n",
    "    1, 1, 1, 1, 1,\n",
    "    1, 0, 0, 0, 0,\n",
    "    1, 1, 1, 0, 0,\n",
    "    0, 0, 0, 1, 0,\n",
    "    0, 0, 0, 0, 1,\n",
    "    1, 1, 1, 1, 0,\n",
    "])\n",
    "\n",
    "patterns = [zero, one, two, three, four, five]"
   ]
  },
  {
   "cell_type": "code",
   "execution_count": 18,
   "metadata": {
    "scrolled": true
   },
   "outputs": [
    {
     "name": "stdout",
     "output_type": "stream",
     "text": [
      "|          \n",
      "|          \n",
      "| * * * * *\n",
      "|         *\n",
      "|         *\n",
      "| * * * *  \n",
      "|          \n",
      "|          \n",
      "|          \n",
      "|          \n",
      "|          \n",
      "|          \n",
      "|          \n",
      "|          \n",
      "|          \n",
      "|          \n",
      "|          \n",
      "|          \n",
      "|          \n",
      "|          \n",
      "|          \n",
      "|          \n",
      "|          \n",
      "|          \n",
      "|          \n",
      "|          \n",
      "|          \n",
      "|          \n",
      "|          \n",
      "|          \n",
      "|          \n",
      "|          \n",
      "|          \n",
      "|          \n",
      "|          \n",
      "|          \n",
      "|          \n",
      "|          \n",
      "|          \n",
      "|          \n",
      "|          \n",
      "|          \n",
      "|          \n",
      "|          \n",
      "| * * * * *\n",
      "|         *\n",
      "|         *\n",
      "| * * * *  \n",
      "|          \n",
      "|          \n",
      "| * * * * *\n",
      "|         *\n",
      "|         *\n",
      "| * * * *  \n",
      "| * * * * *\n",
      "| *        \n",
      "| * * * * *\n",
      "|         *\n",
      "|         *\n",
      "| * * * *  \n",
      "| * * * * *\n",
      "| *     * *\n",
      "| * * * * *\n",
      "| * * * * *\n",
      "| *     * *\n",
      "| * * * * *\n",
      "| * * * * *\n",
      "| *   * * *\n",
      "| * * * * *\n",
      "| * * * * *\n",
      "| *   * * *\n",
      "| * * * * *\n",
      "| * * * * *\n",
      "| *   * * *\n",
      "| * * * * *\n",
      "| * * * * *\n",
      "| *   * * *\n",
      "| * * * * *\n",
      "| * * * * *\n",
      "| *   * * *\n",
      "| * * * * *\n",
      "| * * * * *\n",
      "| *   * * *\n",
      "| * * * * *\n",
      "| * * * * *\n",
      "| *   * * *\n",
      "| * * * * *\n",
      "| * * * * *\n",
      "| *   * * *\n",
      "| * * * * *\n"
     ]
    }
   ],
   "source": [
    "net = KPHopfieldNetwork(pattern_size, alpha=0.0, beta=0.0, gamma=3.1)\n",
    "net.learn(patterns)\n",
    "\n",
    "half_zero = np.array([\n",
    "    0, 0, 0, 0, 0,\n",
    "    0, 0, 0, 0, 0,\n",
    "    1, 1, 1, 1, 1,\n",
    "    0, 0, 0, 0, 1,\n",
    "    0, 0, 0, 0, 1,\n",
    "    1, 1, 1, 1, 0,\n",
    "])\n",
    "\n",
    "S = half_zero.reshape((half_zero.shape[0], 1))\n",
    "time = 15\n",
    "for i in range(time):\n",
    "    draw_bin_image(S.reshape((6, 5)))\n",
    "    S = net.process(S)"
   ]
  },
  {
   "cell_type": "code",
   "execution_count": 19,
   "metadata": {},
   "outputs": [
    {
     "name": "stdout",
     "output_type": "stream",
     "text": [
      "| * * * * *\n",
      "| *   * * *\n",
      "| * * * * *\n",
      "| * * * * *\n",
      "| *   * * *\n",
      "| * * * * *\n"
     ]
    }
   ],
   "source": [
    "draw_bin_image(S.reshape((6, 5)))"
   ]
  },
  {
   "cell_type": "code",
   "execution_count": null,
   "metadata": {},
   "outputs": [],
   "source": [
    "S"
   ]
  },
  {
   "cell_type": "code",
   "execution_count": null,
   "metadata": {},
   "outputs": [],
   "source": []
  }
 ],
 "metadata": {
  "kernelspec": {
   "display_name": "Python 3",
   "language": "python",
   "name": "python3"
  },
  "language_info": {
   "codemirror_mode": {
    "name": "ipython",
    "version": 3
   },
   "file_extension": ".py",
   "mimetype": "text/x-python",
   "name": "python",
   "nbconvert_exporter": "python",
   "pygments_lexer": "ipython3",
   "version": "3.5.3"
  }
 },
 "nbformat": 4,
 "nbformat_minor": 2
}
