{
 "cells": [
  {
   "cell_type": "code",
   "execution_count": null,
   "metadata": {},
   "outputs": [],
   "source": [
    "import scipy.io\n",
    "\n",
    "import numpy as np\n",
    "import pandas as pd\n",
    "import matplotlib as mpl\n",
    "import matplotlib.pyplot as plt\n",
    "\n",
    "from tqdm import tqdm_notebook as tqdm\n",
    "\n",
    "from kpnet.handler import *\n",
    "from kpnet.network import *\n",
    "from kpnet.signal import *\n",
    "from kpnet.callback import *"
   ]
  },
  {
   "cell_type": "code",
   "execution_count": null,
   "metadata": {},
   "outputs": [],
   "source": [
    "time_interval = 2 ** 16\n",
    "chunk = 2 ** 13"
   ]
  },
  {
   "cell_type": "code",
   "execution_count": null,
   "metadata": {},
   "outputs": [],
   "source": [
    "filelist  = pd.read_csv('data/hfd5/desc/data_gen.csv')"
   ]
  },
  {
   "cell_type": "code",
   "execution_count": null,
   "metadata": {},
   "outputs": [],
   "source": [
    "filelist"
   ]
  },
  {
   "cell_type": "code",
   "execution_count": null,
   "metadata": {},
   "outputs": [],
   "source": [
    "np.random.seed(0)\n",
    "N = 64\n",
    "array = np.zeros(shape=(time_interval, N, 1))\n",
    "signal = SwitchSignal([2000, time_interval], [RandomUnitSignal(N), ZeroSignal(N)])\n",
    "for i in range(time_interval):\n",
    "    array[i] = signal[i]\n",
    "d = {}\n",
    "d['signal'] = array\n",
    "scipy.io.savemat('data/mat/signal.mat', d)"
   ]
  },
  {
   "cell_type": "code",
   "execution_count": null,
   "metadata": {},
   "outputs": [],
   "source": [
    "for i in tqdm(range(filelist.shape[0])):\n",
    "    np.random.seed(0)\n",
    "    N = filelist['N'][i]\n",
    "    net = KPNetworkTanh(N, filelist['alpha'][i], filelist['beta'][i], filelist['gamma'][i])\n",
    "    callbacks = {}\n",
    "    callbacks['W'] = WeightsCallback(time_interval, N, chunk, 'data/hfd5/' + filelist['Filename'][i])\n",
    "    signal = SwitchSignal([2000, time_interval], [RandomUnitSignal(N), ZeroSignal(N)])\n",
    "    handler = ComputationHandler(time_interval)\n",
    "    results = handler.run(net, signal, callbacks)"
   ]
  }
 ],
 "metadata": {
  "kernelspec": {
   "display_name": "Python 3",
   "language": "python",
   "name": "python3"
  },
  "language_info": {
   "codemirror_mode": {
    "name": "ipython",
    "version": 3
   },
   "file_extension": ".py",
   "mimetype": "text/x-python",
   "name": "python",
   "nbconvert_exporter": "python",
   "pygments_lexer": "ipython3",
   "version": "3.5.3"
  }
 },
 "nbformat": 4,
 "nbformat_minor": 2
}
